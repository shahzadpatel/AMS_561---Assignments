{
 "cells": [
  {
   "cell_type": "markdown",
   "metadata": {},
   "source": [
    "# Using dictionaries and lists to explore social networks\n",
    "\n",
    "To practice using Python data structures we will use some simple approaches to represent and play with social networks.  Of course computing with such networks is big business, so there's lots of professional-quality and research-quality software out there to compute with networks and graphs - when doing your research you will use such tools.  However, the objective here is to practice lists, dictionaries, algorithms, for loops, Python builtins, and coding, so we will write some simple software ourselves.\n",
    "\n",
    "We have a class of 50 people and we want to\n",
    "* easily check if someone is in the class or not\n",
    "* easily look up someone's nationality\n",
    "* count the number of each nationality\n",
    "* make some fake data to test our software\n",
    "* count the number of friends each person has\n",
    "* compute statistics (min/max/mean/median) on the number of friends\n",
    "  - in total, and\n",
    "  - by nationality (American or international)\n",
    "* determine how many handshakes each person is away from knowing Robert\n",
    "* print out the results in an organized and readable manner\n",
    "\n",
    "\n",
    "Execute the following to define a list named `members` containing the names of all class members."
   ]
  },
  {
   "cell_type": "code",
   "execution_count": 11,
   "metadata": {},
   "outputs": [
    {
     "name": "stdout",
     "output_type": "stream",
     "text": [
      "['Arnetta', 'Thomasena', 'Tammera', 'Rosamaria', 'Lorene', 'Ileana', 'Angela', 'Carletta', 'Mathew', 'Kum', 'Preston', 'Charlene', 'Wilson', 'Kathryne', 'Ariel', 'Shawn', 'Stacie', 'Coralie', 'Kenna', 'Robert', 'Bethel', 'Marc', 'Ferdinand', 'Rico', 'Anne', 'Ginette', 'Tamiko', 'Dominque', 'Dian', 'Loraine', 'Sharen', 'Onie', 'Temeka', 'Ceola', 'Cherly', 'Samual', 'Leeanne', 'Rosamond', 'Arianna', 'Calandra', 'Violette', 'Jenelle', 'Luisa', 'Desiree', 'Krista', 'Brittani', 'Angella', 'Estela', 'Gudrun', 'Maryrose']\n"
     ]
    }
   ],
   "source": [
    "members = [\"Arnetta\",\"Thomasena\",\"Tammera\",\"Rosamaria\",\"Lorene\",\"Ileana\",\"Angela\",\"Carletta\",\"Mathew\",\"Kum\",\"Preston\",\"Charlene\",\"Wilson\",\"Kathryne\",\"Ariel\",\"Shawn\",\"Stacie\",\"Coralie\",\"Kenna\",\"Robert\",\"Bethel\",\"Marc\",\"Ferdinand\",\"Rico\",\"Anne\",\"Ginette\",\"Tamiko\",\"Dominque\",\"Dian\",\"Loraine\",\"Sharen\",\"Onie\",\"Temeka\",\"Ceola\",\"Cherly\",\"Samual\",\"Leeanne\",\"Rosamond\",\"Arianna\",\"Calandra\",\"Violette\",\"Jenelle\",\"Luisa\",\"Desiree\",\"Krista\",\"Brittani\",\"Angella\",\"Estela\",\"Gudrun\",\"Maryrose\"];\n",
    "print(members)"
   ]
  },
  {
   "cell_type": "markdown",
   "metadata": {},
   "source": [
    "### Problem 1\n",
    "Write a one-line Python test to check if there is someone called \"Luisa\" is in the class or not.  \n",
    "\n",
    "What about \"Mark\" ?\n",
    "\n",
    "Verify your code is producing the correct answers."
   ]
  },
  {
   "cell_type": "code",
   "execution_count": 18,
   "metadata": {},
   "outputs": [
    {
     "data": {
      "text/plain": [
       "True"
      ]
     },
     "execution_count": 18,
     "metadata": {},
     "output_type": "execute_result"
    }
   ],
   "source": [
    "\"Luisa\" in members"
   ]
  },
  {
   "cell_type": "markdown",
   "metadata": {},
   "source": [
    "### Problem 2\n",
    "\n",
    "For this project it is important that each name is unique.\n",
    "\n",
    "Verify that no name is repeated in `members` by writing some code that prints `\"Seems OK\"` if no name is repeated, or prints out a name if it is repeated."
   ]
  },
  {
   "cell_type": "code",
   "execution_count": 15,
   "metadata": {},
   "outputs": [
    {
     "name": "stdout",
     "output_type": "stream",
     "text": [
      "seems OK\n"
     ]
    }
   ],
   "source": [
    "n=len(members)\n",
    "c=0\n",
    "i=0\n",
    "for i in range(n):\n",
    "    for j in range(i+1,n):\n",
    "        if members[i] == members[j]:\n",
    "            print(members[i])\n",
    "            c+=1\n",
    "if c == 0:\n",
    "    print(\"seems OK\")"
   ]
  },
  {
   "cell_type": "markdown",
   "metadata": {},
   "source": [
    "Here is the list of nationalities (A=America, I=International) of everyone in the class (execute the following cell)."
   ]
  },
  {
   "cell_type": "code",
   "execution_count": 10,
   "metadata": {},
   "outputs": [],
   "source": [
    "nationalities = ['A', 'A', 'A', 'I', 'I', 'I', 'I', 'I', 'A', 'I', 'A', 'A', 'A', 'A', 'I', 'A', 'I', 'I', 'A', 'I', 'A', 'A', 'I', 'I', 'I', 'I', 'A', 'I', 'I', 'I', 'I', 'A', 'A', 'A', 'I', 'A', 'A', 'I', 'A', 'A', 'I', 'A', 'I', 'A', 'A', 'I', 'A', 'A', 'A', 'A']"
   ]
  },
  {
   "cell_type": "markdown",
   "metadata": {},
   "source": [
    "### Problem 3\n",
    "\n",
    "Perform basic sanity tests\n",
    "* verify the lists of members and nationalities are the same length, and \n",
    "* verify the nationalities are only either \"A\" or \"I\" (anything else is an error which should be reported)"
   ]
  },
  {
   "cell_type": "code",
   "execution_count": 5,
   "metadata": {},
   "outputs": [
    {
     "name": "stdout",
     "output_type": "stream",
     "text": [
      "equal length\n"
     ]
    }
   ],
   "source": [
    "n=len(nationalities)\n",
    "m=len(members)\n",
    "c=0\n",
    "for i in range(n):\n",
    "    if nationalities[i] == 'A' or nationalities[i] == 'I':\n",
    "        if n == m:\n",
    "            c=1\n",
    "        else:\n",
    "            c=0\n",
    "    else:\n",
    "        print(\"error\")\n",
    "if c == 1:\n",
    "    print(\"equal length\")\n",
    "else:\n",
    "    print(\"unequal length\")"
   ]
  },
  {
   "cell_type": "markdown",
   "metadata": {},
   "source": [
    "### Problem 4\n",
    "\n",
    "What is the number of each nationality in the class? "
   ]
  },
  {
   "cell_type": "code",
   "execution_count": 18,
   "metadata": {},
   "outputs": [
    {
     "name": "stdout",
     "output_type": "stream",
     "text": [
      "27\n",
      "23\n"
     ]
    }
   ],
   "source": [
    "a=0\n",
    "i=0\n",
    "j=0\n",
    "for j in range(n):\n",
    "    if nationalities[j] == 'A':\n",
    "        a+=1\n",
    "    elif nationalities[j] == 'I':\n",
    "        i+=1\n",
    "print(a)\n",
    "print(i)"
   ]
  },
  {
   "cell_type": "markdown",
   "metadata": {},
   "source": [
    "### Problem 5\n",
    "\n",
    "Write some code to print the nationality of \"Bethel\""
   ]
  },
  {
   "cell_type": "code",
   "execution_count": 12,
   "metadata": {},
   "outputs": [
    {
     "name": "stdout",
     "output_type": "stream",
     "text": [
      "A\n"
     ]
    }
   ],
   "source": [
    "j=0\n",
    "for j in range(m):\n",
    "    if members[j] == \"Bethel\":\n",
    "        print(nationalities[j])"
   ]
  },
  {
   "cell_type": "markdown",
   "metadata": {},
   "source": [
    "Mmmm ... that was a little clunky and not intuitive, and if we had 1 million people probably very slow. Let's find a better way to lookup the nationality.\n",
    "\n",
    "We want to associate each person with a nationality.  This is what an \"associative array\" (or dictionary or map) does.\n",
    "\n",
    "### Problem 6\n",
    "\n",
    "Make a dictionary named `nationality` that maps from names to nationalities.  I.e., so that\n",
    "```\n",
    "nationality[name]\n",
    "```\n",
    "would look up the nationality associated with `name`.\n",
    "\n",
    "There's lots of ways to do this - try to come up with at least two.  Can U do it in 1 line of code?  Can you do it with no loops?  Note that readable code is always better than hard to understand shorter code, and working code is definitely better than no code at all!\n",
    "\n",
    "If you have multiple solutions, verify they give the same results."
   ]
  },
  {
   "cell_type": "code",
   "execution_count": 13,
   "metadata": {},
   "outputs": [
    {
     "name": "stdout",
     "output_type": "stream",
     "text": [
      "{'Arnetta': 'A', 'Thomasena': 'A', 'Tammera': 'A', 'Rosamaria': 'I', 'Lorene': 'I', 'Ileana': 'I', 'Angela': 'I', 'Carletta': 'I', 'Mathew': 'A', 'Kum': 'I', 'Preston': 'A', 'Charlene': 'A', 'Wilson': 'A', 'Kathryne': 'A', 'Ariel': 'I', 'Shawn': 'A', 'Stacie': 'I', 'Coralie': 'I', 'Kenna': 'A', 'Robert': 'I', 'Bethel': 'A', 'Marc': 'A', 'Ferdinand': 'I', 'Rico': 'I', 'Anne': 'I', 'Ginette': 'I', 'Tamiko': 'A', 'Dominque': 'I', 'Dian': 'I', 'Loraine': 'I', 'Sharen': 'I', 'Onie': 'A', 'Temeka': 'A', 'Ceola': 'A', 'Cherly': 'I', 'Samual': 'A', 'Leeanne': 'A', 'Rosamond': 'I', 'Arianna': 'A', 'Calandra': 'A', 'Violette': 'I', 'Jenelle': 'A', 'Luisa': 'I', 'Desiree': 'A', 'Krista': 'A', 'Brittani': 'I', 'Angella': 'A', 'Estela': 'A', 'Gudrun': 'A', 'Maryrose': 'A'}\n"
     ]
    }
   ],
   "source": [
    "nationality = {}\n",
    "for i in range(len(nationalities)):\n",
    "    nationality[members[i]] = nationalities[i]\n",
    "print(nationality)"
   ]
  },
  {
   "cell_type": "code",
   "execution_count": 14,
   "metadata": {},
   "outputs": [
    {
     "name": "stdout",
     "output_type": "stream",
     "text": [
      "True\n",
      "['I']\n"
     ]
    }
   ],
   "source": [
    "print (\"Kum\" in nationality)\n",
    "if \"Kum\" in nationality:\n",
    "    print (nationality.get(\"Kum\", \"none\"))"
   ]
  },
  {
   "cell_type": "markdown",
   "metadata": {},
   "source": [
    "Test it by looking up the nationality of a few names.  Are you getting the right answers?"
   ]
  },
  {
   "cell_type": "code",
   "execution_count": 15,
   "metadata": {},
   "outputs": [
    {
     "name": "stdout",
     "output_type": "stream",
     "text": [
      "[['I'], ['A'], ['A']]\n"
     ]
    }
   ],
   "source": [
    "M = [\"Lorene\", \"Mathew\", \"Kathryne\"]\n",
    "print([nationality.get(key) for key in M])"
   ]
  },
  {
   "cell_type": "code",
   "execution_count": 16,
   "metadata": {},
   "outputs": [
    {
     "name": "stdout",
     "output_type": "stream",
     "text": [
      "[['A'], ['I'], ['I'], ['A']]\n"
     ]
    }
   ],
   "source": [
    "M = [\"Shawn\",\"Stacie\",\"Coralie\",\"Kenna\"]\n",
    "print([nationality.get(key) for key in M])"
   ]
  },
  {
   "cell_type": "markdown",
   "metadata": {},
   "source": [
    "### Problem 7\n",
    "Make and print out a list with the names of all the American students and a separate list for all the international students"
   ]
  },
  {
   "cell_type": "code",
   "execution_count": 17,
   "metadata": {},
   "outputs": [
    {
     "name": "stdout",
     "output_type": "stream",
     "text": [
      "american students\n",
      "['Arnetta', 'Thomasena', 'Tammera', 'Mathew', 'Preston', 'Charlene', 'Wilson', 'Kathryne', 'Shawn', 'Kenna', 'Bethel', 'Marc', 'Tamiko', 'Onie', 'Temeka', 'Ceola', 'Samual', 'Leeanne', 'Arianna', 'Calandra', 'Jenelle', 'Desiree', 'Krista', 'Angella', 'Estela', 'Gudrun', 'Maryrose']\n",
      "international students\n",
      "['Rosamaria', 'Lorene', 'Ileana', 'Angela', 'Carletta', 'Kum', 'Ariel', 'Stacie', 'Coralie', 'Robert', 'Ferdinand', 'Rico', 'Anne', 'Ginette', 'Dominque', 'Dian', 'Loraine', 'Sharen', 'Cherly', 'Rosamond', 'Violette', 'Luisa', 'Brittani']\n"
     ]
    }
   ],
   "source": [
    "An = []\n",
    "Am = []\n",
    "In = []\n",
    "Im = []\n",
    "for i in range(0, 50):\n",
    "    if nationalities[i] == 'A':\n",
    "        An.append(nationalities[i])\n",
    "        Am.append(members[i])\n",
    "    elif nationalities[i] == 'I':\n",
    "        In.append(nationalities[i])\n",
    "        Im.append(members[i])\n",
    "print (\"american students\")\n",
    "print (Am)\n",
    "print (\"international students\")\n",
    "print (Im)"
   ]
  },
  {
   "cell_type": "markdown",
   "metadata": {},
   "source": [
    "### Problem 8\n",
    "Above you computed the number of American and international students - demonstrate that your lists of names each have the correct length"
   ]
  },
  {
   "cell_type": "code",
   "execution_count": 19,
   "metadata": {},
   "outputs": [
    {
     "name": "stdout",
     "output_type": "stream",
     "text": [
      "Both lists have the correct length\n"
     ]
    }
   ],
   "source": [
    "l1=len(Am)\n",
    "l2=len(Im)\n",
    "if l1 == a and l2 == i:\n",
    "    print(\"Both lists have the correct length\")\n",
    "else:\n",
    "    print(\"error\")"
   ]
  },
  {
   "cell_type": "markdown",
   "metadata": {},
   "source": [
    "\"Violette\" tells us that her friends are \"Arianna\", \"Calandra\",\" Stacie\", and \"Jenelle\".  We could store this in a list and assign it to a variable like this\n",
    "```\n",
    "violettes_friends = [\"Arianna\",\"Calandra\",\"Stacie\",\"Jenelle\"]\n",
    "```\n",
    "But we have 50 (and in real life more) people to keep track of --- it is just too much to have a variable for each person.  \n",
    "\n",
    "I.e., we want to associate each person by name with a list of friends.  Sound familiar?  We need another dictionary, just like we did for nationalities.  I.e., we need a dictionary so that doing `members_friends[name]` gives us a list of friends for the person.\n",
    "\n",
    "If we had some actual data we would read from a file or data base the list of friends for each person.  In this class we will instead generate some random test data. \n",
    "\n",
    "This is very common when developing code and testing algorithms.\n",
    "\n",
    "The test data must make sense and not be too large.  The following seem a good set of contraints for our tests in class.  \n",
    "* we randomly pick friends (less than 6) for each person\n",
    "* a person's list of friends should not include her/himself, and should not include repeats\n",
    "* the friend relationship should be reciprocal --- i.e., if I am friends with you, then you are with me.\n",
    " \n",
    "The code below generates the test data.  Read it to understand what **each** line is doing.  If you cannot figure it out, then ask!"
   ]
  },
  {
   "cell_type": "code",
   "execution_count": 16,
   "metadata": {},
   "outputs": [],
   "source": [
    "import random\n",
    "random.seed(1)   # So that rerunning this code produces same result every time\n",
    "\n",
    "members_friends={}   # make an empty dictionary\n",
    "for name in members: # pre-populate with empty list for each person\n",
    "    members_friends[name]=[]\n",
    "    \n",
    "for member in members:\n",
    "    nfriends = random.randrange(0,6) # random integer 0<=N<6\n",
    "    while len(members_friends[member]) < nfriends:\n",
    "        # find a *new* friend who is not me\n",
    "        while True:\n",
    "            friend = members[random.randrange(0,len(members))]\n",
    "            if not (friend in members_friends[member] or friend==member):\n",
    "                break\n",
    "        members_friends[member].append(friend)\n",
    "        members_friends[friend].append(member) # Ensure reciprocal relationship"
   ]
  },
  {
   "cell_type": "markdown",
   "metadata": {},
   "source": [
    "Cool.  Now let's do some data analytics!  Manually verify your answers --- this is only a small social network.\n",
    "\n",
    "### Problem 9\n",
    "\n",
    "* make a list called `members_num_friends` that contains the number of friends each person has\n",
    "* what is the maximum number of friends anyone has?\n",
    "* what is the least?\n",
    "* who has exactly two friends?\n",
    "* who has the most friends?\n",
    "* who has the least?\n"
   ]
  },
  {
   "cell_type": "code",
   "execution_count": 15,
   "metadata": {},
   "outputs": [
    {
     "name": "stdout",
     "output_type": "stream",
     "text": [
      "The maximum number of friends anyone has is  8\n",
      "The minimum number of friends anyone has is  1\n",
      "Members who have exactly 2 friends are:\n",
      "Kathryne\n",
      "Robert\n",
      "Loraine\n",
      "Desiree\n",
      "Brittani\n",
      "Member with the maximum number of friends is  Mathew\n",
      "Member with the minimum number of friends is  Thomasena\n"
     ]
    }
   ],
   "source": [
    "members_num_friends = [0] * 50\n",
    "i=0\n",
    "for x in members_friends:\n",
    "    members_num_friends[i] = len(members_friends[x])\n",
    "    i+=1\n",
    "print(\"The maximum number of friends anyone has is \", max(members_num_friends))\n",
    "print(\"The minimum number of friends anyone has is \", min(members_num_friends))\n",
    "print(\"Members who have exactly 2 friends are:\")\n",
    "for i in range(0, 50):\n",
    "    if members_num_friends[i] == 2:\n",
    "        print(members[i])\n",
    "maximum = max(members_num_friends)\n",
    "minimum = min(members_num_friends)\n",
    "print(\"Member with the maximum number of friends is \", members[maximum])\n",
    "print(\"Member with the minimum number of friends is \", members[minimum])\n"
   ]
  },
  {
   "cell_type": "markdown",
   "metadata": {},
   "source": [
    "### Problem 10\n",
    "\n",
    "Write a function to compute the mean of a list of numbers.  **Do not** use a builtin function such as `sum` or `scipy.mean` --- while you would do this in real life, the goal here is to practice writing loops and accessing lists.\n",
    "\n",
    "Ditto for the median (see basic procedure in https://en.wikipedia.org/wiki/Median).\n",
    "\n",
    "Test them both on the three lists below for which you can compute the answers by hand\n",
    "```\n",
    "l1 = [3,1,2,4]\n",
    "l2 = [3,1,2,4,0]\n",
    "l3 = []\n",
    "```"
   ]
  },
  {
   "cell_type": "code",
   "execution_count": 8,
   "metadata": {},
   "outputs": [
    {
     "name": "stdout",
     "output_type": "stream",
     "text": [
      "mean1=  2.5\n",
      "median of l1 is  2.5\n",
      "mean2=  2.0\n",
      "median of l2 is  2\n",
      "Mean = 0\n",
      "Median = 0\n"
     ]
    }
   ],
   "source": [
    "l1 = [3,1,2,4]\n",
    "l2 = [3,1,2,4,0]\n",
    "l3 = []\n",
    "s1 = 0\n",
    "s2 = 0\n",
    "s3 = 0\n",
    "n1 = len(l1)\n",
    "n2 = len(l2)\n",
    "n3 = len(l3)\n",
    "l1.sort()\n",
    "l2.sort()\n",
    "l3.sort()\n",
    "if not (n1 == 0):\n",
    "    for i in range(n1):\n",
    "        s1+=l1[i]\n",
    "    mean1 = s1/n1\n",
    "    print(\"mean1= \", mean1)\n",
    "else:\n",
    "    print(\"Mean = 0\")\n",
    "    print(\"Median = 0\")\n",
    "\n",
    "if n1 % 2 == 0: \n",
    "    median1 = l1[n1//2] \n",
    "    median2 = l1[n1//2 - 1] \n",
    "    median3 = (median1 + median2)/2\n",
    "else: \n",
    "    median3 = l1[n1//2] \n",
    "print(\"median of l1 is \", median3)\n",
    "\n",
    "if not (n2 == 0):\n",
    "    for i in range(n2):\n",
    "        s2+=l2[i]\n",
    "    mean2 = s2/n2\n",
    "    print(\"mean2= \", mean2)\n",
    "else:\n",
    "    print(\"Mean = 0\")\n",
    "    print(\"Median = 0\")\n",
    "\n",
    "if n2 % 2 == 0: \n",
    "    median1 = l2[n2//2] \n",
    "    median2 = l2[n2//2 - 1] \n",
    "    median3 = (median1 + median2)/2\n",
    "else: \n",
    "    median3 = l2[n2//2] \n",
    "print(\"median of l2 is \", median3)\n",
    "\n",
    "\n",
    "if not (n3 == 0):\n",
    "    for i in range(n3):\n",
    "        s3+=l3[i]\n",
    "    mean3 = s3/n3\n",
    "    print(\"mean3= \", mean3)\n",
    "else:\n",
    "    print(\"Mean = 0\")\n",
    "    print(\"Median = 0\")\n"
   ]
  },
  {
   "cell_type": "markdown",
   "metadata": {},
   "source": [
    "Great.  Now we can compute statistics (min/max/mean/median) on the number of friends people have\n",
    "* in total, and\n",
    "* by nationality\n",
    "\n",
    "How to do this?  We already have a list of the number of total friends for each person, and we also have functions to compute all the stats we need.  So we just need to make a list (e.g., call it `members_num_american_friends`) for the number of American friends each person has (and ditto for international friends) and then apply the functions we already have to each list.\n",
    "\n",
    "### Problem 11\n",
    "\n",
    "Please print out the statistics with everything lined up nicely in columns with titles and all numbers printed with 1 decimal place.  I.e., something like this (your numbers will be different and you don't have to precisely reproduce the layout --- the goal is readability).  Use the functions you wrote in problem 10 to compute mean and median, and you can use the builtin functions to compute max and min.\n",
    "\n",
    "```\n",
    "                    max      min     mean   median\n",
    "                 -------- -------- -------- --------\n",
    "        total:      8.0      1.0      4.0      4.0 \n",
    "     american:      7.0      1.0      3.3      3.0 \n",
    "international:      3.0      0.0      0.7      1.0 \n",
    "```\n",
    "\n",
    "It may help to look at string formatting documentation:\n",
    "* https://docs.python.org/3.6/tutorial/inputoutput.html#fancier-output-formatting\n",
    "* https://docs.python.org/3.6/library/stdtypes.html#text-sequence-type-str\n",
    "\n",
    "Do your numbers make sense?  Ask critical questions about **every** result because it is so easy to make mistakes."
   ]
  },
  {
   "cell_type": "code",
   "execution_count": 19,
   "metadata": {},
   "outputs": [
    {
     "name": "stdout",
     "output_type": "stream",
     "text": [
      "                Max    Min    Mean    Median\n",
      "total            8      1      4.0      4.0\n",
      "american         7      0      2.12     2.5\n",
      "international    8      0      1.88     0.0\n"
     ]
    }
   ],
   "source": [
    "temp = {} #temporary dictionary to store the members and their index\n",
    "for i in range(0, 50):\n",
    "    temp[members[i]] = i;   \n",
    "\n",
    "members_num_american_friends = [0] * 50\n",
    "members_num_international_friends = [0] * 50\n",
    "a=0\n",
    "j=0\n",
    "for x in members_friends:\n",
    "    for i in members_friends[x]:\n",
    "        if nationalities[temp[i]] == 'A':\n",
    "            members_num_american_friends[temp[i]]+=1\n",
    "        elif nationalities[temp[i]] == 'I':\n",
    "            members_num_international_friends[temp[i]]+=1\n",
    "\n",
    "\n",
    "members_num_friends.sort()\n",
    "members_num_american_friends.sort()\n",
    "members_num_international_friends.sort()\n",
    "\n",
    "max1 = max(members_num_friends)\n",
    "max2 = max(members_num_american_friends)\n",
    "max3 = max(members_num_international_friends)\n",
    "\n",
    "min1 = min(members_num_friends)\n",
    "min2 = min(members_num_american_friends)\n",
    "min3 = min(members_num_international_friends)\n",
    "\n",
    "l1 = len(members_num_friends)\n",
    "l2 = len(members_num_american_friends)\n",
    "l3 = len(members_num_international_friends)\n",
    "\n",
    "s1 = 0\n",
    "s2 = 0\n",
    "s3 = 0\n",
    "mean1 = 0\n",
    "mean2 = 0\n",
    "mean3 = 0\n",
    "median1 = 0\n",
    "median2 = 0\n",
    "median3 = 0\n",
    "median11 = 0\n",
    "median12 = 0\n",
    "\n",
    "\n",
    "#mean and median of number of total friends \n",
    "if not (l1 == 0):\n",
    "    for i in range(l1):\n",
    "        s1+=members_num_friends[i]\n",
    "    mean1 = s1/l1\n",
    "else:\n",
    "    print(\"Mean1 = 0\")\n",
    "    print(\"Median1 = 0\")\n",
    "\n",
    "if l1 % 2 == 0: \n",
    "    median11 = members_num_friends[l1//2] \n",
    "    median12 = members_num_friends[l1//2 - 1] \n",
    "    median1 = (median11 + median12)/2\n",
    "else: \n",
    "    median1 = members_num_friends[l1//2]\n",
    "\n",
    "#mean and median of number of american friends\n",
    "if not (l2 == 0):\n",
    "    for i in range(l2):\n",
    "        s2+=members_num_american_friends[i]\n",
    "    mean2 = s2/l2\n",
    "else:\n",
    "    print(\"Mean2 = 0\")\n",
    "    print(\"Median2 = 0\")\n",
    "\n",
    "if l2 % 2 == 0: \n",
    "    median11 = members_num_american_friends[l2//2] \n",
    "    median12 = members_num_american_friends[l2//2 - 1] \n",
    "    median2 = (median11 + median12)/2\n",
    "else: \n",
    "    median2 = members_num_american_friends[l2//2]\n",
    "\n",
    "#mean and median of number of international friends\n",
    "if not (l3 == 0):\n",
    "    for i in range(l3):\n",
    "        s3+=members_num_international_friends[i]\n",
    "    mean3 = s3/l3\n",
    "else:\n",
    "    print(\"Mean3 = 0\")\n",
    "    print(\"Median3 = 0\")\n",
    "\n",
    "if l3 % 2 == 0: \n",
    "    median11 = members_num_international_friends[l3//2] \n",
    "    median12 = members_num_international_friends[l3//2 - 1] \n",
    "    median3 = (median11 + median12)/2\n",
    "else: \n",
    "    median3 = members_num_international_friends[l3//2]\n",
    "\n",
    "print(\"                Max    Min    Mean    Median\")\n",
    "print(\"total           \",max1, \"    \",min1, \"    \",mean1, \"    \",median1)                              \n",
    "print(\"american        \",max2, \"    \",min2, \"    \",mean2, \"   \",median2)\n",
    "print(\"international   \",max3, \"    \",min3, \"    \",mean3, \"   \",median3)\n",
    "\n"
   ]
  },
  {
   "cell_type": "markdown",
   "metadata": {},
   "source": [
    "### Our final challenge is to compute the distance (number of of handshakes) everyone is away from Robert. \n",
    "\n",
    " **This part is a bit more complicated and is really for those who already have a bit of programming experience. I don't expect everyone to fully understand this at this stage.  So, unless you want some extra fun there's no actual coding in question 12.  Everyone should do problems 13 and 14.**\n",
    "\n",
    "In the following we discuss how to design an algorithm to compute the distances.  You may want to think about this for yourself first.\n",
    "\n",
    "What do we know already?\n",
    "* Robert is zero distance from himself\n",
    "* His friends are one unit (handshake) distance away\n",
    "* What about the friends of Robert's friends?  \n",
    "  - As we loop thru these lists of friends, there seems to be three scenarios\n",
    "    - a person is Robert and so the distance is zero\n",
    "    - a person is a friend of Robert and so the distance is one\n",
    "    - otherwise the person is two handshakes away (friend of a friend of Robert)\n",
    "\n",
    "What also often helps is to think of a simpler problem you can solve.  In this instance, if you were not already a friend of Robert and were magically given the distance of all of your friends from him, how could you compute your distance?\n",
    "* It is one greater than the minimum distance for any of your friends.  Does that make sense?\n",
    " \n",
    "So now we have the two elements we need for an algorithm\n",
    "* By spiraling out (friends of Robert, friends of friends of Robert, etc.), we will discover people in order of increasing distance.  As a result, when we look in turn at the friends of each person we will either \n",
    "  - already know the distance from Robert of the friend (since that person is closer to Robert), or \n",
    "  - don't already know the distance from Robert of the friend, in which case the person is as far or further away than the person we are interested in.\n",
    "* Hence we can compute the distance for the person as one greater than the the minimum distance of all friends for which we already know the distance.\n",
    "  \n",
    "This is the essence of Dijkstra's famous algorithm for solving this problem\n",
    "* https://en.wikipedia.org/wiki/Dijkstra's_algorithm\n",
    "* https://en.wikipedia.org/wiki/Shortest_path_problem\n",
    "\n",
    "We have not been concerned with efficiency, instead we just wanted to explore programming and algorithms.  However, if you have a big social network efficiency becomes very important, and the above two links are a good place to start reading.\n",
    "\n",
    "### Problem 12\n",
    "\n",
    "For nearly everyone:\n",
    "* read and understand my implementation of Dijkstra's algorithm below\n",
    "* put a comment above/on each line of code explaining what it is doing\n",
    "\n",
    "For people up for a challenge:\n",
    "* try writing your own software for computing the distance of everyone from Robert, or\n",
    "* translate into Python Dijkstra's algorithm from the pseudocode given on the Wikipedia page above.\n",
    "\n",
    "Either way, run your code or my code to compute a dictionary (called `distances`) that maps from a name to the distance from Robert.\n"
   ]
  },
  {
   "cell_type": "code",
   "execution_count": 25,
   "metadata": {},
   "outputs": [
    {
     "name": "stdout",
     "output_type": "stream",
     "text": [
      "{'Arnetta': 50, 'Thomasena': 50, 'Tammera': 50, 'Rosamaria': 50, 'Lorene': 50, 'Ileana': 50, 'Angela': 50, 'Carletta': 50, 'Mathew': 50, 'Kum': 50, 'Preston': 50, 'Charlene': 50, 'Wilson': 50, 'Kathryne': 50, 'Ariel': 50, 'Shawn': 50, 'Stacie': 50, 'Coralie': 50, 'Kenna': 50, 'Robert': 50, 'Bethel': 50, 'Marc': 50, 'Ferdinand': 50, 'Rico': 50, 'Anne': 50, 'Ginette': 50, 'Tamiko': 50, 'Dominque': 50, 'Dian': 50, 'Loraine': 50, 'Sharen': 50, 'Onie': 50, 'Temeka': 50, 'Ceola': 50, 'Cherly': 50, 'Samual': 50, 'Leeanne': 50, 'Rosamond': 50, 'Arianna': 50, 'Calandra': 50, 'Violette': 50, 'Jenelle': 50, 'Luisa': 50, 'Desiree': 50, 'Krista': 50, 'Brittani': 50, 'Angella': 50, 'Estela': 50, 'Gudrun': 50, 'Maryrose': 50}\n",
      "{'Arnetta': 3, 'Thomasena': 4, 'Tammera': 4, 'Rosamaria': 5, 'Lorene': 5, 'Ileana': 3, 'Angela': 4, 'Carletta': 3, 'Mathew': 4, 'Kum': 4, 'Preston': 4, 'Charlene': 3, 'Wilson': 2, 'Kathryne': 4, 'Ariel': 3, 'Shawn': 4, 'Stacie': 4, 'Coralie': 2, 'Kenna': 1, 'Robert': 0, 'Bethel': 3, 'Marc': 3, 'Ferdinand': 2, 'Rico': 3, 'Anne': 4, 'Ginette': 3, 'Tamiko': 3, 'Dominque': 2, 'Dian': 4, 'Loraine': 4, 'Sharen': 4, 'Onie': 3, 'Temeka': 2, 'Ceola': 3, 'Cherly': 4, 'Samual': 3, 'Leeanne': 2, 'Rosamond': 1, 'Arianna': 3, 'Calandra': 3, 'Violette': 3, 'Jenelle': 4, 'Luisa': 2, 'Desiree': 4, 'Krista': 4, 'Brittani': 3, 'Angella': 3, 'Estela': 3, 'Gudrun': 4, 'Maryrose': 3}\n"
     ]
    }
   ],
   "source": [
    "def compute_distance_from_target(target, members, members_friends):\n",
    "    ''' \n",
    "    Returns a map from each member to his/her distance from the target person.\n",
    "    If someone is not connected, the distance will be >= the number of members\n",
    "    '''\n",
    "    unprocessed=list(members)\n",
    "    dist={member:len(members) for member in members}\n",
    "    print(dist)\n",
    "    dist[target] = 0\n",
    "    \n",
    "    while len(unprocessed) > 0:\n",
    "        mindist = len(members)\n",
    "        for q in unprocessed:\n",
    "            if dist[q] <= mindist:\n",
    "                mindist = dist[q]\n",
    "                u = q\n",
    "        unprocessed.remove(u)\n",
    "        \n",
    "        for v in members_friends[u]:\n",
    "            dist[v] = min(dist[v],dist[u]+1)\n",
    "            \n",
    "    return dist\n",
    "\n",
    "distances = compute_distance_from_target(\"Robert\", members, members_friends)\n",
    "print(distances)"
   ]
  },
  {
   "cell_type": "markdown",
   "metadata": {},
   "source": [
    "### Problem 13\n",
    "\n",
    "Write some code to verify a few of the results.  E.g.,\n",
    "* Pick someone distance 3 away from Robert\n",
    "  - Verify a friend of a friend of a friend is Robert\n",
    "  - Verify that noone closer knows Robert "
   ]
  },
  {
   "cell_type": "code",
   "execution_count": null,
   "metadata": {},
   "outputs": [],
   "source": [
    "        "
   ]
  },
  {
   "cell_type": "markdown",
   "metadata": {},
   "source": [
    "### Problem 14\n",
    "\n",
    "Last one!  Print out a nice looking table with headings on columns, everything aligned, and with names printed in order of increasing distance from Robert.\n",
    "* On each line print the name, the total number of friends, and the distance from Robert\n",
    "* If you cannot figure out how to sort by distance then sort the names alphabetically.  And if you cannot figure out how to sort alphabetically print the names in any order.\n",
    "\n",
    "It should look something like this\n",
    "```\n",
    "    member     #friend  distance\n",
    " ---------    --------  --------\n",
    "    Robert         2        0\n",
    "     Kenna         6        1\n",
    "  Rosamond         4        1\n",
    "   Coralie         6        2\n",
    "  Dominque         4        2\n",
    " ...\n",
    "```"
   ]
  },
  {
   "cell_type": "code",
   "execution_count": null,
   "metadata": {},
   "outputs": [],
   "source": [
    "\n"
   ]
  },
  {
   "cell_type": "markdown",
   "metadata": {},
   "source": [
    "### What does the graph look like?\n",
    "\n",
    "To wrap up, and provide a hint of what is ahead for you - run the following to see what our little social network looks like.  You don't need to unserstand this code (yet!).\n",
    "\n",
    "I followed http://lachlanblackhall.com/wp-content/uploads/2014/08/Graphs-Networks-and-Python.pdf and https://networkx.github.io/documentation/stable/index.html "
   ]
  },
  {
   "cell_type": "code",
   "execution_count": 21,
   "metadata": {},
   "outputs": [
    {
     "data": {
      "image/png": "[encoded data removed]",
      "text/plain": [
       "<Figure size 432x288 with 1 Axes>"
      ]
     },
     "metadata": {},
     "output_type": "display_data"
    }
   ],
   "source": [
    "import networkx as nx\n",
    "%matplotlib inline\n",
    "G = nx.Graph()\n",
    "for name in members:\n",
    "    G.add_node(name)\n",
    "for name in members:\n",
    "    for friend in members_friends[name]:\n",
    "        if name > friend:\n",
    "            G.add_edge(name,friend)\n",
    "labels={name:name for name in members}\n",
    "nx.draw(G,labels=labels,font_size=8)"
   ]
  },
  {
   "cell_type": "markdown",
   "metadata": {},
   "source": [
    "Remember, we just generated a random graph with little attention to actually modeling a real social network."
   ]
  },
  {
   "cell_type": "code",
   "execution_count": null,
   "metadata": {},
   "outputs": [],
   "source": []
  }
 ],
 "metadata": {
  "anaconda-cloud": {},
  "kernelspec": {
   "display_name": "Python 3",
   "language": "python",
   "name": "python3"
  },
  "language_info": {
   "codemirror_mode": {
    "name": "ipython",
    "version": 3
   },
   "file_extension": ".py",
   "mimetype": "text/x-python",
   "name": "python",
   "nbconvert_exporter": "python",
   "pygments_lexer": "ipython3",
   "version": "3.7.1"
  }
 },
 "nbformat": 4,
 "nbformat_minor": 1
}
